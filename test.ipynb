{
 "cells": [
  {
   "cell_type": "code",
   "execution_count": 14,
   "metadata": {},
   "outputs": [
    {
     "name": "stdout",
     "output_type": "stream",
     "text": [
      "(0.9803921568627455, 0.0, 0.0, 0.9803921568627455, 0.0, 0.9803921568627455)\n",
      "(0.7692307692307692, 0.0, 0.0, 0.7692307692307692, 0.0, 0.7692307692307692)\n",
      "(143.6818154776321, 1.7278157745906744, 0.0, 0.04156700343501866, 0.0, 0.041567003556990306)\n"
     ]
    }
   ],
   "source": [
    "from dumbbellSuspension import *\n",
    "\n",
    "A=suspension(0.1,150)\n",
    "A.eq_state()\n",
    "\n",
    "b=suspension(50,10)\n",
    "b.eq_state()\n",
    "\n",
    "A.shear(100)\n",
    "print(A.QQ)"
   ]
  }
 ],
 "metadata": {
  "interpreter": {
   "hash": "d73758e3a70c1386355853b0c1d4d732c84b7a013c2eb40f9b98324181b81a9e"
  },
  "kernelspec": {
   "display_name": "Python 3.8.8 ('base')",
   "language": "python",
   "name": "python3"
  },
  "language_info": {
   "codemirror_mode": {
    "name": "ipython",
    "version": 3
   },
   "file_extension": ".py",
   "mimetype": "text/x-python",
   "name": "python",
   "nbconvert_exporter": "python",
   "pygments_lexer": "ipython3",
   "version": "3.8.5"
  },
  "orig_nbformat": 4
 },
 "nbformat": 4,
 "nbformat_minor": 2
}
