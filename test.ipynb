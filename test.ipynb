{
 "cells": [
  {
   "cell_type": "code",
   "execution_count": 3,
   "metadata": {},
   "outputs": [
    {
     "name": "stdout",
     "output_type": "stream",
     "text": [
      "(0.9433962264150945, 0.0, 0.0, 0.9433962264150945, 0.0, 0.9433962264150945)\n",
      "(0.7692307692307692, 0.0, 0.0, 0.7692307692307692, 0.0, 0.7692307692307692)\n"
     ]
    }
   ],
   "source": [
    "from dumbbellSuspension import *\n",
    "\n",
    "A=suspension(1,50)\n",
    "A.eq_state()\n",
    "\n",
    "b=suspension(50,10)\n",
    "b.eq_state()"
   ]
  }
 ],
 "metadata": {
  "interpreter": {
   "hash": "d73758e3a70c1386355853b0c1d4d732c84b7a013c2eb40f9b98324181b81a9e"
  },
  "kernelspec": {
   "display_name": "Python 3.8.8 ('base')",
   "language": "python",
   "name": "python3"
  },
  "language_info": {
   "codemirror_mode": {
    "name": "ipython",
    "version": 3
   },
   "file_extension": ".py",
   "mimetype": "text/x-python",
   "name": "python",
   "nbconvert_exporter": "python",
   "pygments_lexer": "ipython3",
   "version": "3.8.8"
  },
  "orig_nbformat": 4
 },
 "nbformat": 4,
 "nbformat_minor": 2
}
